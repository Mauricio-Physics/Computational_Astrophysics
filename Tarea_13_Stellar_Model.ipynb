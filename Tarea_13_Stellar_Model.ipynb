{
 "cells": [
  {
   "cell_type": "code",
   "execution_count": 135,
   "metadata": {},
   "outputs": [],
   "source": [
    "import math as m\n",
    "import numpy as np\n",
    "import matplotlib.pyplot as plt\n",
    "from math import *\n",
    "from scipy.interpolate import InterpolatedUnivariateSpline"
   ]
  },
  {
   "cell_type": "code",
   "execution_count": 136,
   "metadata": {},
   "outputs": [],
   "source": [
    "a =np.loadtxt(\"j.txt\",unpack=True)\n",
    "Masa = a[1,:]*(1e-3)\n",
    "M= Masa[399]                             ## Masa sobre la superficie\n",
    "Radio = a[2,:]*(1e-7)\n",
    "R= Radio[399]                            ## Radio sobre la superficie\n",
    "Densidad = a[4,:]*(1e3)\n",
    "G = 6.67e-11                                   ## Constante de Cavendish\n",
    "n = 1000                   ## Numero de puntos\n",
    "dr = (Radio[399]-Radio[0])/(n-1)   ## dr\n",
    "r = np.arange(Radio[0],R + dr/2,dr)\n",
    "D_i = InterpolatedUnivariateSpline(Radio,Densidad)(r)      ## Funcion Interpolada creando una rejilla igual/ espaciada"
   ]
  },
  {
   "cell_type": "code",
   "execution_count": 137,
   "metadata": {},
   "outputs": [
    {
     "data": {
      "text/plain": [
       "[<matplotlib.lines.Line2D at 0x25ddee584a8>]"
      ]
     },
     "execution_count": 137,
     "metadata": {},
     "output_type": "execute_result"
    },
    {
     "data": {
      "image/png": "[encoded data removed]",
      "text/plain": [
       "<Figure size 432x288 with 1 Axes>"
      ]
     },
     "metadata": {
      "needs_background": "light"
     },
     "output_type": "display_data"
    }
   ],
   "source": [
    "plt.grid()                     ## Grafico r vs rho\n",
    "\n",
    "plt.xlabel('Radio')\n",
    "plt.ylabel('Densidad de Masa')\n",
    "plt.loglog(r,D_i,'r')"
   ]
  },
  {
   "cell_type": "code",
   "execution_count": 138,
   "metadata": {},
   "outputs": [],
   "source": [
    "def e(x,y):                       ## Primer Metodo   x = R_s  and   y = M_s\n",
    "\n",
    "    # Set up variables             \n",
    "    z = np.zeros(n)               ## Derivada del potencial\n",
    "    f = np.zeros(n)               ## Potencial\n",
    "    f_s = - (G*y)/x\n",
    "     \n",
    "    # Set up central values (initial values)\n",
    "    \n",
    "    z[0] = 0.0\n",
    "    f[0] = 0.0\n",
    "    \n",
    "    for i in range(1,n):\n",
    "        \n",
    "        f[i] = f[i-1] + z[i-1]*dr\n",
    "        z[i] = z[i-1] + (4.0*pi*G*D_i[i] - 2*z[i-1]/r[i])*dr\n",
    "    \n",
    "    f_c = f_s - f[n-1]             ## Se halla la diferencia para poder hallar + C\n",
    "    f = f + f_c                    ## Aca se corrige\n",
    "    return(z,f,f[0],f[n-1]) "
   ]
  },
  {
   "cell_type": "code",
   "execution_count": 139,
   "metadata": {},
   "outputs": [],
   "source": [
    "def mm(z,y):                       ## Segundo Metodo       x = R_s  and   y = M_s\n",
    "    \n",
    "       # Set up variables\n",
    "\n",
    "    x = 1/dr\n",
    "    j = np.zeros((n,n)) \n",
    "    b = np.zeros(n)                           \n",
    "    f = np.zeros(n)               ## Potencial\n",
    "    f_s = - (G*y)/z\n",
    "\n",
    "    for i in range (0,n):\n",
    "\n",
    "        b[i] = 4*pi*G*D_i[i]\n",
    "\n",
    "    for k in range(0,n):                      ## Matriz A del sistema\n",
    "        for l in range (0,n):\n",
    "            if k == l and k == 0:\n",
    "               j[k][l] = -(x**2) - (x/r[k])\n",
    "            elif k == l and  k != 0:\n",
    "               j[k][l] = -2*(x**2)\n",
    "            elif k+1 == l:\n",
    "               j[k][l] = x**2 + (x/r[k]) \n",
    "            elif k == l+1:\n",
    "               j[k][l] = x**2 - (x/r[k])\n",
    "            else:\n",
    "               j[k][l] = 0.0\n",
    "    \n",
    "    f = np.linalg.solve(j,b)\n",
    "    \n",
    "    f_c = f_s - f[n-1]             ## Se halla la diferencia para poder hallar + C\n",
    "    f = f + f_c                    ## Aca se corrige\n",
    "    return f"
   ]
  },
  {
   "cell_type": "code",
   "execution_count": 140,
   "metadata": {},
   "outputs": [
    {
     "data": {
      "text/plain": [
       "<matplotlib.legend.Legend at 0x25ddeaa1b70>"
      ]
     },
     "execution_count": 140,
     "metadata": {},
     "output_type": "execute_result"
    },
    {
     "data": {
      "image/png": "[encoded data removed]",
      "text/plain": [
       "<Figure size 432x288 with 1 Axes>"
      ]
     },
     "metadata": {
      "needs_background": "light"
     },
     "output_type": "display_data"
    }
   ],
   "source": [
    "plt.grid()                         ## Grafico el potencial obtenido por ambos metodos\n",
    "\n",
    "plt.xlabel('Radio')\n",
    "plt.ylabel('Potencial')\n",
    "plt.plot(r,e(R,M)[1],'b')\n",
    "plt.axis([0,R,e(R,M)[2],e(R,M)[3]])\n",
    "plt.plot(r,mm(R,M),'r')\n",
    "plt.axis([0,R,mm(R,M)[0],mm(R,M)[n-1]])\n",
    "plt.legend(('ODE Method', 'Matrix Method'),prop = {'size':10}, loc = 'lower center')"
   ]
  },
  {
   "cell_type": "code",
   "execution_count": null,
   "metadata": {},
   "outputs": [],
   "source": []
  },
  {
   "cell_type": "code",
   "execution_count": null,
   "metadata": {},
   "outputs": [],
   "source": []
  }
 ],
 "metadata": {
  "kernelspec": {
   "display_name": "Python 3",
   "language": "python",
   "name": "python3"
  },
  "language_info": {
   "codemirror_mode": {
    "name": "ipython",
    "version": 3
   },
   "file_extension": ".py",
   "mimetype": "text/x-python",
   "name": "python",
   "nbconvert_exporter": "python",
   "pygments_lexer": "ipython3",
   "version": "3.7.3"
  }
 },
 "nbformat": 4,
 "nbformat_minor": 2
}
