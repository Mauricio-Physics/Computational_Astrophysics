{
 "cells": [
  {
   "cell_type": "code",
   "execution_count": 14,
   "metadata": {},
   "outputs": [],
   "source": [
    "import math as m\n",
    "import numpy as np\n",
    "import matplotlib.pyplot as plt\n",
    "from math import *"
   ]
  },
  {
   "cell_type": "code",
   "execution_count": 15,
   "metadata": {},
   "outputs": [],
   "source": [
    "a = 0.0        ## Condiciones Iniciales\n",
    "b = 1.0\n",
    "n = 100\n",
    "A = 0\n",
    "B = 0.1\n",
    "h = (b-a)/(n-1)\n",
    "c = np.arange(a,b+(h/2),h)"
   ]
  },
  {
   "cell_type": "code",
   "execution_count": 16,
   "metadata": {},
   "outputs": [],
   "source": [
    "def g(x):                  ## Defino las tres funciones en generales que pueden acompañar en la segunda derivada\n",
    "    g = 12*x - 4\n",
    "    return g\n",
    "\n",
    "def p(x):\n",
    "    p = 0*x\n",
    "    return p\n",
    "\n",
    "def q(x):\n",
    "    q = 0*x\n",
    "    return q"
   ]
  },
  {
   "cell_type": "code",
   "execution_count": 17,
   "metadata": {},
   "outputs": [],
   "source": [
    "x = np.zeros(n)             ## Defino los vectores a llenar\n",
    "y = np.zeros((n-2,n-2))\n",
    "b = np.zeros(n-2)"
   ]
  },
  {
   "cell_type": "code",
   "execution_count": 18,
   "metadata": {},
   "outputs": [],
   "source": [
    "for i in range (0,n):           ## Enmallado\n",
    "    x[i] = a + i*h    \n",
    "\n",
    "for j in range(1,n-3):          ## Columna b del sistema\n",
    "    b[0] = h**2 * g(x[1]) - A*(1 - (h/2)*p(x[1]))\n",
    "    b[j] = h**2 * g(x[j+1])\n",
    "    b[n-3] = h**2 * g(x[n-2]) - B*(1 + (h/2)*p(x[n-2]))"
   ]
  },
  {
   "cell_type": "code",
   "execution_count": 19,
   "metadata": {},
   "outputs": [],
   "source": [
    "for k in range(0,n-2):                      ## Matriz A del sistema\n",
    "    for l in range (0,n-2):\n",
    "        if k == l:\n",
    "           y[k][l] = -2 + (h**2 * q(x[k+1]))\n",
    "        elif k+1 == l:\n",
    "           y[k][l] = 1 + ((h/2) * p(x[k+1]))\n",
    "        elif k == l+1:\n",
    "           y[k][l] = 1 - ((h/2) * p(x[k+1]))\n",
    "        else:\n",
    "           y[k][l] = 0.0"
   ]
  },
  {
   "cell_type": "code",
   "execution_count": 20,
   "metadata": {},
   "outputs": [],
   "source": [
    "def det(y,b):     ## Aqui llamo los modulos del determinante y del solucionador\n",
    "    if np.linalg.det(y) != 0:\n",
    "        z = np.linalg.solve(y,b)\n",
    "    else:\n",
    "        print(\"el sistema no tiene solucion\")\n",
    "    return z\n",
    "\n",
    "z = det(y,b)"
   ]
  },
  {
   "cell_type": "code",
   "execution_count": 21,
   "metadata": {},
   "outputs": [],
   "source": [
    "z = z.tolist()  ## Inserto los dos valores extremos\n",
    "z.insert(0,A)\n",
    "z.insert(n-1,B)\n",
    "z = np.asarray(z)"
   ]
  },
  {
   "cell_type": "code",
   "execution_count": null,
   "metadata": {},
   "outputs": [],
   "source": []
  },
  {
   "cell_type": "code",
   "execution_count": 22,
   "metadata": {},
   "outputs": [],
   "source": [
    "def g(t):                   ## Funcion Teorica\n",
    "    g = 2*t**3 - 2*t**2 + 0.1*t\n",
    "    return g"
   ]
  },
  {
   "cell_type": "code",
   "execution_count": 23,
   "metadata": {},
   "outputs": [
    {
     "data": {
      "text/plain": [
       "<matplotlib.legend.Legend at 0x16c549537f0>"
      ]
     },
     "execution_count": 23,
     "metadata": {},
     "output_type": "execute_result"
    },
    {
     "data": {
      "image/png": "[encoded data removed]",
      "text/plain": [
       "<Figure size 432x288 with 1 Axes>"
      ]
     },
     "metadata": {
      "needs_background": "light"
     },
     "output_type": "display_data"
    }
   ],
   "source": [
    "plt.grid()            ## COmparacion Grafica\n",
    "plt.plot(x,z,'k')\n",
    "plt.plot(c,g(c),'r')\n",
    "plt.legend(('Funcion Teorica', 'Aproximacion Numerica'),prop = {'size':10}, loc = 'lower center')\n",
    "\n"
   ]
  },
  {
   "cell_type": "code",
   "execution_count": null,
   "metadata": {},
   "outputs": [],
   "source": []
  },
  {
   "cell_type": "code",
   "execution_count": null,
   "metadata": {},
   "outputs": [],
   "source": []
  },
  {
   "cell_type": "code",
   "execution_count": null,
   "metadata": {},
   "outputs": [],
   "source": []
  }
 ],
 "metadata": {
  "kernelspec": {
   "display_name": "Python 3",
   "language": "python",
   "name": "python3"
  },
  "language_info": {
   "codemirror_mode": {
    "name": "ipython",
    "version": 3
   },
   "file_extension": ".py",
   "mimetype": "text/x-python",
   "name": "python",
   "nbconvert_exporter": "python",
   "pygments_lexer": "ipython3",
   "version": "3.7.3"
  }
 },
 "nbformat": 4,
 "nbformat_minor": 2
}
