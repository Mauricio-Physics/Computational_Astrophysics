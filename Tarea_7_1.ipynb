{
 "cells": [
  {
   "cell_type": "code",
   "execution_count": 15,
   "metadata": {},
   "outputs": [],
   "source": [
    "import math as m\n",
    "import numpy as np\n",
    "import matplotlib.pyplot as plt"
   ]
  },
  {
   "cell_type": "code",
   "execution_count": 20,
   "metadata": {},
   "outputs": [
    {
     "name": "stdout",
     "output_type": "stream",
     "text": [
      "ingrese el valor de t:97\n",
      "ingrese el valor de e:0.99999\n"
     ]
    },
    {
     "data": {
      "text/plain": [
       "[<matplotlib.lines.Line2D at 0x2b80ba07240>]"
      ]
     },
     "execution_count": 20,
     "metadata": {},
     "output_type": "execute_result"
    },
    {
     "data": {
      "image/png": "[encoded data removed]",
      "text/plain": [
       "<Figure size 432x288 with 1 Axes>"
      ]
     },
     "metadata": {
      "needs_background": "light"
     },
     "output_type": "display_data"
    }
   ],
   "source": [
    "eps = 1e-8\n",
    "T = 365.25635\n",
    "w = 2*m.pi/T\n",
    "d = 1e-8\n",
    "\n",
    "a = 1\n",
    "b = 4\n",
    "x = np.arange(a,b,1)\n",
    "t = float(input(\"ingrese el valor de t:\"))\n",
    "e = float(input(\"ingrese el valor de e:\"))\n",
    "\n",
    "def f1(x):\n",
    "    f1 = x - w*t - e*np.sin(x)\n",
    "    return f1\n",
    "\n",
    "plt.grid()\n",
    "\n",
    "plt.xlabel('x')\n",
    "plt.ylabel('y')\n",
    "\n",
    "plt.plot(x,f1(x),'k')\n"
   ]
  },
  {
   "cell_type": "code",
   "execution_count": 3,
   "metadata": {},
   "outputs": [],
   "source": [
    "def f(z):\n",
    "    f = z - w*t - e*m.sin(z)\n",
    "    return f\n",
    "\n",
    "\n",
    "def d_f(s):\n",
    "    d_f = (f(s+d) - f(s-d))/(2*d)\n",
    "    return d_f"
   ]
  },
  {
   "cell_type": "markdown",
   "metadata": {},
   "source": [
    "Newthon Raphson"
   ]
  },
  {
   "cell_type": "code",
   "execution_count": 22,
   "metadata": {},
   "outputs": [
    {
     "name": "stdout",
     "output_type": "stream",
     "text": [
      "La raiz converge a 2.3675971804270817 despues de 3 iteraciones\n",
      "Para t = 97.0 y una excentricidad = 0.99999  x (AU) = -0.7151235570620144\n"
     ]
    }
   ],
   "source": [
    "def n_r(xo):\n",
    "    y = xo\n",
    "    i = 0\n",
    "    a = 0\n",
    "    while abs(f(y)) > eps:\n",
    "         i += 1 \n",
    "         y = y - f(y)/d_f(y)\n",
    "    print(\"La raiz converge a\",y,\"despues de\",i,\"iteraciones\")\n",
    "    print(\"Para t =\",t,\"y una excentricidad =\",e,\" x (AU) =\", m.cos(y))\n",
    "    \n",
    "    \n",
    "n_r(2.5)\n",
    "            "
   ]
  },
  {
   "cell_type": "markdown",
   "metadata": {},
   "source": [
    "Secante"
   ]
  },
  {
   "cell_type": "code",
   "execution_count": 23,
   "metadata": {},
   "outputs": [
    {
     "name": "stdout",
     "output_type": "stream",
     "text": [
      "La raiz converge a 2.367597180426337 despues de 5 iteraciones\n",
      "Para t = 97.0 y una excentricidad = 0.99999  x (AU) = -0.7151235570614938\n"
     ]
    }
   ],
   "source": [
    "def s(xo,x1):\n",
    "    tol = 1e-10\n",
    "    z = xo\n",
    "    y = x1\n",
    "    j = 0\n",
    "    x = 0\n",
    "    while abs((y-z)/y) > tol:\n",
    "        j += 1\n",
    "        x = y - f(y)*(y-z)/(f(y)-f(z))\n",
    "        z = y\n",
    "        y = x\n",
    "    print(\"La raiz converge a\",y,\"despues de\",j,\"iteraciones\")    \n",
    "    print(\"Para t =\",t,\"y una excentricidad =\",e,\" x (AU) =\", m.cos(y))\n",
    "    \n",
    "s(2,2.5)"
   ]
  },
  {
   "cell_type": "markdown",
   "metadata": {},
   "source": [
    "Biseccion"
   ]
  },
  {
   "cell_type": "code",
   "execution_count": 24,
   "metadata": {},
   "outputs": [
    {
     "name": "stdout",
     "output_type": "stream",
     "text": [
      "La raiz converge a 2.367597180377925 despues de 33 iteraciones\n",
      "Para t = 97.0 y una excentricidad = 0.99999  x (AU) = -0.715123557027654\n"
     ]
    }
   ],
   "source": [
    "def b(xo,x1):\n",
    "    tol = 1e-10\n",
    "    a = xo\n",
    "    b = x1\n",
    "    k  = 0\n",
    "    \n",
    "    while b-a > tol:\n",
    "          k += 1\n",
    "          c = (a+b)/2\n",
    "            \n",
    "          if f(a)*f(c) < 0:\n",
    "             b = c\n",
    "          else:\n",
    "             a = c\n",
    "                \n",
    "    print(\"La raiz converge a\",c,\"despues de\",k,\"iteraciones\") \n",
    "    print(\"Para t =\",t,\"y una excentricidad =\",e,\" x (AU) =\", m.cos(c))\n",
    "        \n",
    "b(2,2.55)"
   ]
  },
  {
   "cell_type": "code",
   "execution_count": null,
   "metadata": {},
   "outputs": [],
   "source": []
  }
 ],
 "metadata": {
  "kernelspec": {
   "display_name": "Python 3",
   "language": "python",
   "name": "python3"
  },
  "language_info": {
   "codemirror_mode": {
    "name": "ipython",
    "version": 3
   },
   "file_extension": ".py",
   "mimetype": "text/x-python",
   "name": "python",
   "nbconvert_exporter": "python",
   "pygments_lexer": "ipython3",
   "version": "3.7.3"
  }
 },
 "nbformat": 4,
 "nbformat_minor": 2
}
