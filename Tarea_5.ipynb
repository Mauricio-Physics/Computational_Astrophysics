{
 "cells": [
  {
   "cell_type": "code",
   "execution_count": 9,
   "metadata": {},
   "outputs": [],
   "source": [
    "import math as m\n",
    "import numpy as np\n",
    "import matplotlib.pyplot as plt\n",
    "from math import *\n"
   ]
  },
  {
   "cell_type": "code",
   "execution_count": 10,
   "metadata": {},
   "outputs": [],
   "source": [
    "a = -1\n",
    "b = 1"
   ]
  },
  {
   "cell_type": "code",
   "execution_count": 11,
   "metadata": {},
   "outputs": [],
   "source": [
    "def f(x):        \n",
    "    f = 1/(1 + 25*(x**2))\n",
    "    return f\n",
    "\n",
    "\n",
    "def g(n):\n",
    "    g = np.arange(a,b+(b-a)/n ,(b-a)/n)\n",
    "    return g\n",
    "\n",
    "def Lag(x,y,m):         ## Funcion que genera los polinomios de Lagrange\n",
    "    \n",
    "    a = [1]*len(x)\n",
    "    \n",
    "    for i in range(len(x)):\n",
    "        \n",
    "        for j in range(len(x)):\n",
    "            \n",
    "            if j != i:\n",
    "             \n",
    "                a[i] *= ( m - x[j])/( x[i] - x[j]) \n",
    "                \n",
    "    return sum(a[t]*y[t] for t in range(len(x)))"
   ]
  },
  {
   "cell_type": "markdown",
   "metadata": {},
   "source": [
    "$ EN2=\\frac{1}{m}\\sqrt{\\sum_{i=1}^m \\left(\\frac{p(x)-f(x)}{f(x)}\\right)^2}$"
   ]
  },
  {
   "cell_type": "code",
   "execution_count": 12,
   "metadata": {},
   "outputs": [
    {
     "name": "stdout",
     "output_type": "stream",
     "text": [
      "para n= 6 EN2= 0.49573210917719307\n",
      "para n= 8 EN2= 0.7666396265763353\n",
      "para n= 10 EN2= 1.2860858008508709\n"
     ]
    }
   ],
   "source": [
    "def en2(h,n):\n",
    "    k = 0\n",
    "    m = np.arange(a,b+(b-a)/(n-1) ,(b-a)/(n-1))\n",
    "    for i in range(n):\n",
    "        k += ((Lag(g(h),f(g(h)),m)[i] - f(m)[i])/f(m)[i])**2\n",
    "        \n",
    "    print(\"para n=\",h, \"EN2=\",(sqrt(k)/n))\n",
    "    \n",
    "en2(6,100)\n",
    "en2(8,100)\n",
    "en2(10,100)\n"
   ]
  },
  {
   "cell_type": "code",
   "execution_count": 13,
   "metadata": {},
   "outputs": [
    {
     "name": "stdout",
     "output_type": "stream",
     "text": [
      "<class 'numpy.ndarray'>\n",
      "para n= 100 EN2= 0.49573210917719307\n",
      "<class 'numpy.ndarray'>\n",
      "para n= 100 EN2= 0.7666396265763353\n",
      "<class 'numpy.ndarray'>\n",
      "para n= 100 EN2= 1.2860858008508709\n"
     ]
    }
   ],
   "source": [
    "def En2(h,n):\n",
    "    s = 0\n",
    "    m = np.arange(a,b+(b-a)/(n-1) ,(b-a)/(n-1))\n",
    "    s= sum(((Lag(g(h),f(g(h)),m)-f(m))/f(m))**2)\n",
    "    print(type(f(m)))\n",
    "    print(\"para n=\",n, \"EN2=\",(sqrt(s)/n))\n",
    "    \n",
    "En2(6,100)\n",
    "En2(8,100)\n",
    "En2(10,100)\n"
   ]
  },
  {
   "cell_type": "markdown",
   "metadata": {},
   "source": [
    "\n",
    "Interpolacion con rectas"
   ]
  },
  {
   "cell_type": "code",
   "execution_count": 255,
   "metadata": {},
   "outputs": [],
   "source": [
    "def Nump(n):        ## Defino el numero de puntos a interpolar\n",
    "    m = np.arange(a,b + (b-a)/(2*n-2),(b-a)/(n-1))\n",
    "    return m\n"
   ]
  },
  {
   "cell_type": "code",
   "execution_count": 284,
   "metadata": {},
   "outputs": [
    {
     "data": {
      "text/plain": [
       "[<matplotlib.lines.Line2D at 0x20710f42ac8>]"
      ]
     },
     "execution_count": 284,
     "metadata": {},
     "output_type": "execute_result"
    },
    {
     "data": {
      "image/png": "[encoded data removed]",
      "text/plain": [
       "<Figure size 432x288 with 1 Axes>"
      ]
     },
     "metadata": {
      "needs_background": "light"
     },
     "output_type": "display_data"
    }
   ],
   "source": [
    "def Straight(xp,yp,n):   ## Genero las rectas\n",
    "    \n",
    "    m = [1]*(len(xp)-1)\n",
    "    j = [1]*(len(xp)-1)\n",
    "    z = [1]*(len(xp)-1)\n",
    "    a = [0]\n",
    "    b = [0]\n",
    "    c = [0]*2\n",
    "    \n",
    "    for i in range(len(xp)-1):\n",
    "        \n",
    "        m[i] = (yp[i+1]-yp[i])/(xp[i+1]-xp[i])\n",
    "        j[i] = np.arange(xp[i],xp[i+1],(xp[i+1]-xp[i])/n)\n",
    "        a.extend(j[i])\n",
    "        z[i] = (m[i]*j[i])+yp[i]-(m[i]*xp[i])\n",
    "        b.extend(z[i])\n",
    "        \n",
    "    a.pop(0)\n",
    "    b.pop(0)\n",
    "    return a,b\n",
    " \n",
    "\n",
    "plt.grid()\n",
    "\n",
    "plt.xlabel('x')\n",
    "plt.ylabel('y')\n",
    "\n",
    "plt.plot(Straight(Nump(50),f(Nump(50)),2)[0],Straight(Nump(50),f(Nump(50)),2)[1],'y')"
   ]
  },
  {
   "cell_type": "code",
   "execution_count": 282,
   "metadata": {},
   "outputs": [
    {
     "name": "stdout",
     "output_type": "stream",
     "text": [
      "para n= 98 EN2= 0.00028993211368463415\n"
     ]
    }
   ],
   "source": [
    "x_1 = Straight(Nump(50),f(Nump(50)),2)[0]   ## Se calcula el error para los puntos.\n",
    "y_1 = Straight(Nump(50),f(Nump(50)),2)[1]\n",
    "\n",
    "def en_2(x_1,y_1):\n",
    "    h = len(x_1)\n",
    "    k = 0\n",
    "    \n",
    "    for i in range(h):\n",
    "        k += ((y_1[i] - f(x_1[i]))/f(x_1[i]))**2\n",
    "        \n",
    "    print(\"para n=\",h, \"EN2=\",(sqrt(k)/h))\n",
    "\n",
    "en_2(x_1,y_1)\n"
   ]
  },
  {
   "cell_type": "code",
   "execution_count": null,
   "metadata": {},
   "outputs": [],
   "source": [
    "\n",
    "    \n",
    "    "
   ]
  },
  {
   "cell_type": "code",
   "execution_count": null,
   "metadata": {},
   "outputs": [],
   "source": []
  }
 ],
 "metadata": {
  "kernelspec": {
   "display_name": "Python 3",
   "language": "python",
   "name": "python3"
  },
  "language_info": {
   "codemirror_mode": {
    "name": "ipython",
    "version": 3
   },
   "file_extension": ".py",
   "mimetype": "text/x-python",
   "name": "python",
   "nbconvert_exporter": "python",
   "pygments_lexer": "ipython3",
   "version": "3.7.3"
  }
 },
 "nbformat": 4,
 "nbformat_minor": 2
}
