{
 "cells": [
  {
   "cell_type": "code",
   "execution_count": 8,
   "metadata": {},
   "outputs": [],
   "source": [
    "import math as m\n",
    "import numpy as np\n",
    "import matplotlib.pyplot as plt"
   ]
  },
  {
   "cell_type": "markdown",
   "metadata": {},
   "source": [
    "$ Parte\\ a\\ $"
   ]
  },
  {
   "cell_type": "code",
   "execution_count": 9,
   "metadata": {},
   "outputs": [
    {
     "name": "stdout",
     "output_type": "stream",
     "text": [
      "24.900000000000002\n",
      "The Simpson Rule para 248 intervalos La integral converge a = 1.8030853955405242\n"
     ]
    },
    {
     "data": {
      "text/plain": [
       "[<matplotlib.lines.Line2D at 0x22d40c166a0>]"
      ]
     },
     "execution_count": 9,
     "metadata": {},
     "output_type": "execute_result"
    },
    {
     "data": {
      "image/png": "[encoded data removed]",
      "text/plain": [
       "<Figure size 432x288 with 1 Axes>"
      ]
     },
     "metadata": {
      "needs_background": "light"
     },
     "output_type": "display_data"
    }
   ],
   "source": [
    "a = 0\n",
    "b = 100\n",
    "d = 1e-4\n",
    "\n",
    "x = np.arange(a,b,0.1)\n",
    "\n",
    "def f(x):    ## Defino la funcion\n",
    "    f = x**2/(np.exp(x)+1)\n",
    "    return f\n",
    "\n",
    "y = f(x)\n",
    "\n",
    "def max(y):       ## Defino el maximo valor que toma\n",
    "    j = np.argmax(y)\n",
    "    k = int(j)\n",
    "    return k\n",
    "\n",
    "def lim(x,y):  ## Defino donde cortarla\n",
    "    lim = 0\n",
    "    for i in range(max(y),len(y)):\n",
    "        if y[i] < 1e-8 :\n",
    "            break\n",
    "    return x[i]\n",
    "\n",
    "print(lim(x,y))\n",
    "\n",
    "x_1 = np.arange(a,lim(x,y),0.1)   ## Defino el nuevo intervalo\n",
    "\n",
    "def s_r(x,t):    ## Integro por simpson\n",
    "    \n",
    "    s = 0\n",
    "    for i in range (len(x)-1):\n",
    "        s += ((x[i+1]-x[i])/6)*(t(x[i])+4*t((x[i]+x[i+1])/2)+t(x[i+1]))\n",
    "    print(\"The Simpson Rule para\",len(x)-1,\"intervalos La integral converge a =\",s)\n",
    "\n",
    "s_r(x_1,f)\n",
    "\n",
    "plt.grid()\n",
    "plt.xlabel('x')\n",
    "plt.ylabel('y')\n",
    "plt.plot(x_1,f(x_1),'b')"
   ]
  },
  {
   "cell_type": "markdown",
   "metadata": {},
   "source": [
    "$ Parte\\ b\\ $"
   ]
  },
  {
   "cell_type": "markdown",
   "metadata": {},
   "source": [
    "$ \\sum_{i=0} \\left(\\frac{dn_{e}}{dE}\\right)_{i}  * \\Delta E $"
   ]
  },
  {
   "cell_type": "code",
   "execution_count": 10,
   "metadata": {},
   "outputs": [],
   "source": [
    "def x_2(n):\n",
    "    x_2 = np.arange(a,lim(x,y) + (lim(x,y)-a)/n ,(lim(x,y)-a)/n )  \n",
    "    return(x_2)"
   ]
  },
  {
   "cell_type": "code",
   "execution_count": 11,
   "metadata": {},
   "outputs": [
    {
     "name": "stdout",
     "output_type": "stream",
     "text": [
      "La integral para 5 intervalos de energia converge a = 1.972516154556841\n",
      "La integral para 10 intervalos de energia converge a = 1.8315571672695186\n"
     ]
    }
   ],
   "source": [
    "def s_r(x,t):    ## Integro por simpson\n",
    "    \n",
    "    s = 0\n",
    "    for i in range (len(x)-1):\n",
    "        s += ((x[i+1]-x[i])/6)*(t(x[i])+4*t((x[i]+x[i+1])/2)+t(x[i+1]))\n",
    "    print(\"La integral para\",len(x)-1,\"intervalos de energia converge a =\",s)\n",
    "\n",
    "s_r(x_2(5),f)\n",
    "s_r(x_2(10),f)"
   ]
  },
  {
   "cell_type": "code",
   "execution_count": null,
   "metadata": {},
   "outputs": [],
   "source": []
  },
  {
   "cell_type": "code",
   "execution_count": null,
   "metadata": {},
   "outputs": [],
   "source": []
  }
 ],
 "metadata": {
  "kernelspec": {
   "display_name": "Python 3",
   "language": "python",
   "name": "python3"
  },
  "language_info": {
   "codemirror_mode": {
    "name": "ipython",
    "version": 3
   },
   "file_extension": ".py",
   "mimetype": "text/x-python",
   "name": "python",
   "nbconvert_exporter": "python",
   "pygments_lexer": "ipython3",
   "version": "3.7.3"
  }
 },
 "nbformat": 4,
 "nbformat_minor": 2
}
