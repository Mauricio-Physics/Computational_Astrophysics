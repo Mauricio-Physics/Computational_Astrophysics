{
 "cells": [
  {
   "cell_type": "code",
   "execution_count": 60,
   "metadata": {},
   "outputs": [],
   "source": [
    "import math as m\n",
    "import numpy as np\n",
    "import matplotlib.pyplot as plt\n",
    "from math import *"
   ]
  },
  {
   "cell_type": "code",
   "execution_count": 61,
   "metadata": {},
   "outputs": [],
   "source": [
    "a = 0.0\n",
    "b = 1.0\n",
    "y_0 = 0.0\n",
    "n = 100\n",
    "B = 0.1\n",
    "c = np.arange(a,b+(b-a)/(2*n),(b-a)/n)\n",
    "\n",
    "def f(z_0):\n",
    "    \n",
    "    dx = (b-a)/n\n",
    "    \n",
    "    # Set up variables\n",
    "        \n",
    "    x = np.zeros(n+1)\n",
    "    y = np.zeros(n+1)\n",
    "    u = np.zeros(n+1)\n",
    "    \n",
    "    x[0] = 0\n",
    "    y[0] = y_0\n",
    "    u[0] = z_0\n",
    "    \n",
    "    for i in range (1,n+1):\n",
    "        \n",
    "        x[i] = dx*i\n",
    "        y[i] = u[i-1]*dx + y[i-1]\n",
    "        u[i] = (12*x[i] - 4)*dx + u[i-1]\n",
    "    return x,y,y[n]"
   ]
  },
  {
   "cell_type": "code",
   "execution_count": 62,
   "metadata": {},
   "outputs": [],
   "source": [
    "def F(z_0):               ## Funcion a Minimizar\n",
    "    F = f(z_0)[2] - B\n",
    "    return F"
   ]
  },
  {
   "cell_type": "code",
   "execution_count": 63,
   "metadata": {},
   "outputs": [],
   "source": [
    "def s_m(z_0,z_1):        ## Minimizacion para hallar z_0\n",
    "    tol = 1e-8\n",
    "    z = z_0\n",
    "    y = z_1\n",
    "    x = 0.0\n",
    "    while abs(F(y)) > tol:\n",
    "        x = y - F(y)*(y-z)/(F(y)-F(z))\n",
    "        z = y\n",
    "        y = x\n",
    "    return y\n",
    "\n",
    "q = s_m(0.0,1.0)"
   ]
  },
  {
   "cell_type": "code",
   "execution_count": 64,
   "metadata": {},
   "outputs": [],
   "source": [
    "def g(x):                   ## Funcion Teorica\n",
    "    g = 2*x**3 - 2*x**2 + 0.1*x\n",
    "    return g"
   ]
  },
  {
   "cell_type": "code",
   "execution_count": 69,
   "metadata": {},
   "outputs": [
    {
     "data": {
      "text/plain": [
       "<matplotlib.legend.Legend at 0x2a6f2af1320>"
      ]
     },
     "execution_count": 69,
     "metadata": {},
     "output_type": "execute_result"
    },
    {
     "data": {
      "image/png": "[encoded data removed]",
      "text/plain": [
       "<Figure size 432x288 with 1 Axes>"
      ]
     },
     "metadata": {
      "needs_background": "light"
     },
     "output_type": "display_data"
    }
   ],
   "source": [
    "plt.grid()                    ## Comparacion Grafica\n",
    "\n",
    "plt.plot(c,g(c),'r')\n",
    "plt.plot(f(q)[0],f(q)[1],'g')\n",
    "plt.legend(('Funcion Teorica', 'Aproximacion Numerica'),prop = {'size':10}, loc = 'lower center')\n"
   ]
  },
  {
   "cell_type": "code",
   "execution_count": null,
   "metadata": {},
   "outputs": [],
   "source": []
  }
 ],
 "metadata": {
  "kernelspec": {
   "display_name": "Python 3",
   "language": "python",
   "name": "python3"
  },
  "language_info": {
   "codemirror_mode": {
    "name": "ipython",
    "version": 3
   },
   "file_extension": ".py",
   "mimetype": "text/x-python",
   "name": "python",
   "nbconvert_exporter": "python",
   "pygments_lexer": "ipython3",
   "version": "3.7.3"
  }
 },
 "nbformat": 4,
 "nbformat_minor": 2
}
