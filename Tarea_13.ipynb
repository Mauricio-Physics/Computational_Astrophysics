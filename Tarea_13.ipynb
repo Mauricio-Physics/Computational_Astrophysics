{
 "cells": [
  {
   "cell_type": "code",
   "execution_count": 1,
   "metadata": {},
   "outputs": [],
   "source": [
    "import math as m\n",
    "import numpy as np\n",
    "import matplotlib.pyplot as plt\n",
    "from math import *"
   ]
  },
  {
   "cell_type": "code",
   "execution_count": 2,
   "metadata": {},
   "outputs": [],
   "source": [
    "G = 6.67e-11\n",
    "R = 1e5               ## Radio del objeto\n",
    "M = 1e3                ## Masa del objeto\n",
    "v = (4*pi*R**3)/3      ## Volumen del objeto\n",
    "d = M/v                ## Densidad del objeto"
   ]
  },
  {
   "cell_type": "code",
   "execution_count": 3,
   "metadata": {},
   "outputs": [],
   "source": [
    "def f(x):                                ## Potencial Teorico\n",
    "    f = (2*pi*G*d/3)*(x**2 - 3*R**2)\n",
    "    return f"
   ]
  },
  {
   "cell_type": "code",
   "execution_count": 4,
   "metadata": {},
   "outputs": [],
   "source": [
    "def e(n):                       ## Primer Metodo\n",
    "    dr = R/(n-1)\n",
    "    \n",
    "    # Set up variables\n",
    "    \n",
    "    r = np.zeros(n)               ## Posicion de r\n",
    "    z = np.zeros(n)               ## Derivada del potencial\n",
    "    f = np.zeros(n)               ## Potencial\n",
    "    f_s = - (G*M)/R\n",
    "    h = np.ones(n)*d              ## Densidad de masa\n",
    "     \n",
    "    # Set up central values (initial values)\n",
    "    \n",
    "    r[0] = 0.0\n",
    "    z[0] = 0.0\n",
    "    f[0] = 0.0\n",
    "    \n",
    "    for i in range(1,n):\n",
    "        \n",
    "        r[i] = dr * i\n",
    "        f[i] = f[i-1] + z[i-1]*dr\n",
    "        z[i] = z[i-1] + (4.0*pi*G*d - 2*z[i-1]/r[i])*dr\n",
    "    \n",
    "    f_c = f_s - f[n-1]             ## Se halla la diferencia para poder hallar + C\n",
    "    f = f + f_c                    ## Aca se corrige\n",
    "    return(r,z,f) "
   ]
  },
  {
   "cell_type": "code",
   "execution_count": 5,
   "metadata": {},
   "outputs": [
    {
     "data": {
      "text/plain": [
       "<matplotlib.legend.Legend at 0x246a1887a58>"
      ]
     },
     "execution_count": 5,
     "metadata": {},
     "output_type": "execute_result"
    },
    {
     "data": {
      "image/png": "[encoded data removed]",
      "text/plain": [
       "<Figure size 432x288 with 1 Axes>"
      ]
     },
     "metadata": {
      "needs_background": "light"
     },
     "output_type": "display_data"
    }
   ],
   "source": [
    "plt.grid()\n",
    "\n",
    "plt.plot(e(500)[0],e(500)[2],'r')\n",
    "plt.plot(e(500)[0],f(e(500)[0]),'b')\n",
    "plt.legend(('Numeric Potential', 'Theoric Potential'),prop = {'size':10}, loc = 'lower center')"
   ]
  },
  {
   "cell_type": "code",
   "execution_count": null,
   "metadata": {},
   "outputs": [],
   "source": []
  },
  {
   "cell_type": "code",
   "execution_count": 6,
   "metadata": {},
   "outputs": [],
   "source": [
    "def mm(n):                                 ## Segundo Metodo\n",
    "    \n",
    "    x = (n-1)/R        ## dr = R/(n-1)\n",
    "    \n",
    "    # Set up variables\n",
    "    \n",
    "    j = np.zeros((n,n))                \n",
    "    b = np.zeros(n)                ## Vector b\n",
    "    r = np.zeros(n)                ## Vector de posicion    \n",
    "    h = np.ones(n)*d               ## Vector densidad\n",
    "    \n",
    "    f_s = - (G*M)/R\n",
    "    \n",
    "    for q in range (0,n):   \n",
    "        \n",
    "        b[q] = 4*pi*G*h[q]\n",
    "    \n",
    "    for i in range (0,n):\n",
    "        \n",
    "        if i == 0:\n",
    "           r[i] = 1/(2*x)       ## Corrimiento de la malla en r=0\n",
    "        else :\n",
    "           r[i] =  i/x          ## Enmallado para i > 0\n",
    "    \n",
    "    \n",
    "    for k in range(0,n):                      ## Matriz A del sistema\n",
    "        for l in range (0,n):\n",
    "            if k == l and k == 0:\n",
    "               j[k][l] = -(x**2) - (x/r[k])\n",
    "            elif k == l and  k != 0:\n",
    "               j[k][l] = -2*(x**2)\n",
    "            elif k+1 == l:\n",
    "               j[k][l] =  x**2 + (x/r[k]) \n",
    "            elif k == l+1:\n",
    "               j[k][l] = x**2 - (x/r[k])\n",
    "            else:\n",
    "               j[k][l] = 0.0\n",
    "    \n",
    "    f = np.linalg.solve(j,b)\n",
    "    \n",
    "    f_c = f_s - f[n-1]             ## Se halla la diferencia para poder hallar + C\n",
    "    f = f + f_c                    ## Aca se corrige\n",
    "\n",
    "    return(r,f)\n",
    "    \n",
    "\n",
    "    "
   ]
  },
  {
   "cell_type": "code",
   "execution_count": 7,
   "metadata": {},
   "outputs": [
    {
     "data": {
      "text/plain": [
       "<matplotlib.legend.Legend at 0x246a1950518>"
      ]
     },
     "execution_count": 7,
     "metadata": {},
     "output_type": "execute_result"
    },
    {
     "data": {
      "image/png": "[encoded data removed]",
      "text/plain": [
       "<Figure size 432x288 with 1 Axes>"
      ]
     },
     "metadata": {
      "needs_background": "light"
     },
     "output_type": "display_data"
    }
   ],
   "source": [
    "plt.grid()\n",
    "\n",
    "plt.plot(mm(1000)[0],mm(1000)[1],'r')\n",
    "plt.plot(mm(1000)[0],f(mm(1000)[0]),'b')\n",
    "plt.legend(('Numeric Potential', 'Theoric Potential'),prop = {'size':10}, loc = 'lower center')"
   ]
  },
  {
   "cell_type": "code",
   "execution_count": null,
   "metadata": {},
   "outputs": [],
   "source": []
  },
  {
   "cell_type": "code",
   "execution_count": null,
   "metadata": {},
   "outputs": [],
   "source": []
  },
  {
   "cell_type": "code",
   "execution_count": null,
   "metadata": {},
   "outputs": [],
   "source": []
  },
  {
   "cell_type": "code",
   "execution_count": null,
   "metadata": {},
   "outputs": [],
   "source": []
  },
  {
   "cell_type": "code",
   "execution_count": null,
   "metadata": {},
   "outputs": [],
   "source": []
  },
  {
   "cell_type": "code",
   "execution_count": null,
   "metadata": {},
   "outputs": [],
   "source": []
  },
  {
   "cell_type": "code",
   "execution_count": null,
   "metadata": {},
   "outputs": [],
   "source": []
  },
  {
   "cell_type": "code",
   "execution_count": null,
   "metadata": {},
   "outputs": [],
   "source": []
  },
  {
   "cell_type": "code",
   "execution_count": null,
   "metadata": {},
   "outputs": [],
   "source": []
  }
 ],
 "metadata": {
  "kernelspec": {
   "display_name": "Python 3",
   "language": "python",
   "name": "python3"
  },
  "language_info": {
   "codemirror_mode": {
    "name": "ipython",
    "version": 3
   },
   "file_extension": ".py",
   "mimetype": "text/x-python",
   "name": "python",
   "nbconvert_exporter": "python",
   "pygments_lexer": "ipython3",
   "version": "3.7.3"
  }
 },
 "nbformat": 4,
 "nbformat_minor": 2
}
