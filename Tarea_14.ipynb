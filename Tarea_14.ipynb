{
 "cells": [
  {
   "cell_type": "code",
   "execution_count": 1,
   "metadata": {},
   "outputs": [],
   "source": [
    "import math as m\n",
    "import numpy as np\n",
    "import matplotlib.pyplot as plt\n",
    "from math import *\n",
    "import imageio"
   ]
  },
  {
   "cell_type": "code",
   "execution_count": 2,
   "metadata": {},
   "outputs": [
    {
     "data": {
      "text/plain": [
       "[<matplotlib.lines.Line2D at 0x2257696a470>]"
      ]
     },
     "execution_count": 2,
     "metadata": {},
     "output_type": "execute_result"
    },
    {
     "data": {
      "image/png": "[encoded data removed]",
      "text/plain": [
       "<Figure size 432x288 with 1 Axes>"
      ]
     },
     "metadata": {
      "needs_background": "light"
     },
     "output_type": "display_data"
    }
   ],
   "source": [
    "x_o = 0                           ## Limites del espacio-tiempo \n",
    "L = 100\n",
    "\n",
    "a_t = 0                         \n",
    "b_t = 40\n",
    "\n",
    "n = 50                         ## Numero de particiones\n",
    "    \n",
    "def f(n):\n",
    "\n",
    "     x = np.zeros(n) \n",
    "     t = np.zeros(n)\n",
    "     dx = (L-x_o)/(n-1)                ## Malla en el espacio\n",
    "     dt = (b_t-a_t)/(n-1)                ## Malla en el tiempo\n",
    "\n",
    "\n",
    "     for i in range(0,n):\n",
    "         x[i] = x_o + dx*i                     ## Posicion\n",
    "         t[i] = a_t + dt*i                     ## Tiempo\n",
    "            \n",
    "     f = np.sin((2*pi*x)/L)\n",
    "     return x,f,t\n",
    "\n",
    "plt.grid()                                       ## Perfil Inicial\n",
    "plt.title('Inittial Profile',)\n",
    "\n",
    "plt.xlabel('X')\n",
    "plt.ylabel('Y')\n",
    "plt.plot(f(n)[0],f(n)[1],'r')"
   ]
  },
  {
   "cell_type": "code",
   "execution_count": 3,
   "metadata": {},
   "outputs": [],
   "source": [
    "def g(f):                            ## Metodo FCTS                    ## j: Time    i: Position\n",
    "    \n",
    "   u = np.zeros((n,n))                 ## Propagacion   \n",
    "   dx = (L-x_o)/(n-1)                ## Malla en el espacio\n",
    "   dt = (b_t-a_t)/(n-1)                ## Malla en el tiempo\n",
    "                       ## Error\n",
    "   \n",
    "   u[:,0] = f\n",
    "                         ## Valor Maximo de la funcion\n",
    "   for j in range(0,n-1):         ## Columna                            \n",
    "       for i in range(1,n-1):                ## Espacio\n",
    "            \n",
    "           u[i][j+1] = (u[i][j]) - (dt/(2*dx))*(u[i][j] - u[i-1][j])*(u[i][j])\n",
    "   return u    "
   ]
  },
  {
   "cell_type": "code",
   "execution_count": 4,
   "metadata": {},
   "outputs": [],
   "source": [
    "def gif(x,u,s):  ## Estoy generando las n imagenes para el gif  \n",
    "    \n",
    "    filenames = []        ## x:Posicion   u: Posicion en el tiempo   s: Tiempo  r: Perfil inicial  \n",
    "    for i in range(0,s):\n",
    "        \n",
    "        plt.xlabel('Position')\n",
    "        plt.ylabel('Function')\n",
    "        plt.plot(x,u[:,i], label = 't =' + str(i))\n",
    "        plt.legend((['t =' +str(round((f(s)[2])[i],3))+'s']),prop = {'size':10}, loc = 'lower center')\n",
    "        plt.savefig(str(i)+'.png')\n",
    "        filenames += [str(i)+'.png']\n",
    "        \n",
    "    images = []                     ## Estoy uniendo las imagenes para el gif \n",
    "\n",
    "    for filename in filenames:\n",
    "        images.append(imageio.imread(str(filename)))\n",
    "    imageio.mimsave('movie.gif',images,duration = 0.5)"
   ]
  },
  {
   "cell_type": "code",
   "execution_count": 6,
   "metadata": {},
   "outputs": [
    {
     "data": {
      "image/png": "[encoded data removed]",
      "text/plain": [
       "<Figure size 432x288 with 1 Axes>"
      ]
     },
     "metadata": {
      "needs_background": "light"
     },
     "output_type": "display_data"
    }
   ],
   "source": [
    "plt.title('Upwind Method Burgers Equation',)        \n",
    "gif(f(n)[0],g(f(n)[1]),50)"
   ]
  },
  {
   "cell_type": "code",
   "execution_count": null,
   "metadata": {},
   "outputs": [],
   "source": []
  },
  {
   "cell_type": "code",
   "execution_count": 7,
   "metadata": {},
   "outputs": [],
   "source": [
    "x_1 = 0.0                          ## Limites del espacio-tiempo \n",
    "x_2 = 1.0\n",
    "\n",
    "\n",
    "n1 = 50                         ## Numero de particiones\n",
    "    \n",
    "def f1(n):\n",
    "     \n",
    "     f1 = np.zeros(n)\n",
    "     x = np.zeros(n) \n",
    "     t = np.zeros(n)\n",
    "    \n",
    "     dx = (x_2-x_1)/(n-1)                ## Malla en el espacio\n",
    "     dt = (b_t-a_t)/(n-1)                ## Malla en el tiempo\n",
    "\n",
    "\n",
    "     for i in range(0,n):\n",
    "         x[i] = x_1 + dx*i                     ## Posicion\n",
    "         t[i] = a_t + dt*i                     ## Tiempo\n",
    "            \n",
    "         if x[i] <= 0.5:\n",
    "            f1[i] = 1\n",
    "         else:\n",
    "            f1[i] = 2\n",
    "     return x,f1,t"
   ]
  },
  {
   "cell_type": "code",
   "execution_count": null,
   "metadata": {},
   "outputs": [],
   "source": [
    "plt.title('Upwind Method Burgers Equation',)        \n",
    "gif(f1(n1)[0],g(f1(n1)[1]),50)"
   ]
  },
  {
   "cell_type": "code",
   "execution_count": null,
   "metadata": {},
   "outputs": [],
   "source": []
  },
  {
   "cell_type": "code",
   "execution_count": null,
   "metadata": {},
   "outputs": [],
   "source": []
  }
 ],
 "metadata": {
  "kernelspec": {
   "display_name": "Python 3",
   "language": "python",
   "name": "python3"
  },
  "language_info": {
   "codemirror_mode": {
    "name": "ipython",
    "version": 3
   },
   "file_extension": ".py",
   "mimetype": "text/x-python",
   "name": "python",
   "nbconvert_exporter": "python",
   "pygments_lexer": "ipython3",
   "version": "3.7.3"
  }
 },
 "nbformat": 4,
 "nbformat_minor": 2
}
