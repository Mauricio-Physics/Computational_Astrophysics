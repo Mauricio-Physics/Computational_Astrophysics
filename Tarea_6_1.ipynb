{
 "cells": [
  {
   "cell_type": "code",
   "execution_count": 1,
   "metadata": {},
   "outputs": [],
   "source": [
    "import math as m\n",
    "import numpy as np\n",
    "import matplotlib.pyplot as plt\n",
    "from math import *"
   ]
  },
  {
   "cell_type": "code",
   "execution_count": 2,
   "metadata": {},
   "outputs": [
    {
     "name": "stdout",
     "output_type": "stream",
     "text": [
      "[0.         1.04719755 2.0943951  3.14159265]\n"
     ]
    }
   ],
   "source": [
    "a = 0\n",
    "b = m.pi\n",
    "\n",
    "def g(n):\n",
    "    g = np.arange(a,b+(b-a)/(2*n) ,(b-a)/n)\n",
    "    return g\n",
    "\n",
    "print(g(3))\n",
    "\n",
    "def f(x):\n",
    "    f = np.sin(x)\n",
    "    return f"
   ]
  },
  {
   "cell_type": "markdown",
   "metadata": {},
   "source": [
    "The Midpoint Rule"
   ]
  },
  {
   "cell_type": "code",
   "execution_count": 3,
   "metadata": {},
   "outputs": [
    {
     "name": "stdout",
     "output_type": "stream",
     "text": [
      "The Midpoint Rule para 10 intervalos La integral converge a = 2.0082484079079745\n",
      "The Midpoint Rule para 50 intervalos La integral converge a = 2.000329024698625\n",
      "The Midpoint Rule para 100 intervalos La integral converge a = 2.0000822490709855\n"
     ]
    }
   ],
   "source": [
    "def m_r(x,t):\n",
    "    \n",
    "    s = 0\n",
    "    for i in range (len(x)-1):\n",
    "        s += (x[i+1]-x[i])*t((x[i]+x[i+1])/2)\n",
    "    print(\"The Midpoint Rule para\",len(x)-1,\"intervalos La integral converge a =\",s)\n",
    "\n",
    "m_r(g(10),f)\n",
    "m_r(g(50),f)\n",
    "m_r(g(100),f)\n"
   ]
  },
  {
   "cell_type": "markdown",
   "metadata": {},
   "source": [
    "The Trapezoidal Rule"
   ]
  },
  {
   "cell_type": "code",
   "execution_count": 4,
   "metadata": {},
   "outputs": [
    {
     "name": "stdout",
     "output_type": "stream",
     "text": [
      "The Trapezoidal Rule para  10 La integral converge a = 1.9835235375094546\n",
      "The Trapezoidal Rule para  50 La integral converge a = 1.9993419830762618\n",
      "The Trapezoidal Rule para  100 La integral converge a = 1.9998355038874442\n"
     ]
    }
   ],
   "source": [
    "def t_r(x,t):\n",
    "    \n",
    "    s = 0\n",
    "    for i in range (len(x)-1):\n",
    "        s += (x[i+1]-x[i])*(t(x[i+1])+t(x[i]))/2\n",
    "    print(\"The Trapezoidal Rule para \",len(x)-1, \"La integral converge a =\",s)\n",
    "\n",
    "t_r(g(10),f)\n",
    "t_r(g(50),f)\n",
    "t_r(g(100),f)"
   ]
  },
  {
   "cell_type": "markdown",
   "metadata": {},
   "source": [
    "The Simpson Rule"
   ]
  },
  {
   "cell_type": "code",
   "execution_count": 5,
   "metadata": {},
   "outputs": [
    {
     "name": "stdout",
     "output_type": "stream",
     "text": [
      "The Simpson Rule para 10 intervalos La integral converge a = 2.000006784441801\n",
      "The Simpson Rule para 50 intervalos La integral converge a = 2.0000000108245044\n",
      "The Simpson Rule para 100 intervalos La integral converge a = 2.0000000006764718\n"
     ]
    }
   ],
   "source": [
    "def s_r(x,t):\n",
    "    \n",
    "    s = 0\n",
    "    for i in range (len(x)-1):\n",
    "        s += ((x[i+1]-x[i])/6)*(t(x[i])+4*t((x[i]+x[i+1])/2)+t(x[i+1]))\n",
    "    print(\"The Simpson Rule para\",len(x)-1,\"intervalos La integral converge a =\",s)\n",
    "\n",
    "s_r(g(10),f)\n",
    "s_r(g(50),f)\n",
    "s_r(g(100),f)"
   ]
  },
  {
   "cell_type": "markdown",
   "metadata": {},
   "source": [
    "$ f(x) = xsin(x)\\              Valor\\ Teorico\\ de\\ la\\ Integral\\ es\\ \\pi $"
   ]
  },
  {
   "cell_type": "code",
   "execution_count": 6,
   "metadata": {},
   "outputs": [],
   "source": [
    "def F(x):\n",
    "    F = x*np.sin(x)\n",
    "    return F"
   ]
  },
  {
   "cell_type": "code",
   "execution_count": 7,
   "metadata": {},
   "outputs": [
    {
     "name": "stdout",
     "output_type": "stream",
     "text": [
      "The Midpoint Rule para 10 intervalos La integral converge a = 3.1545492224335447\n",
      "The Trapezoidal Rule para  10 La integral converge a = 3.1157114868310702\n",
      "The Simpson Rule para 10 intervalos La integral converge a = 3.1416033105660532\n",
      "The Midpoint Rule para 50 intervalos La integral converge a = 3.142109484377819\n",
      "The Trapezoidal Rule para  50 La integral converge a = 3.1405590430230164\n",
      "The Simpson Rule para 50 intervalos La integral converge a = 3.141592670592885\n",
      "The Midpoint Rule para 100 intervalos La integral converge a = 3.141721850128381\n",
      "The Trapezoidal Rule para  100 La integral converge a = 3.1413342637004176\n",
      "The Simpson Rule para 100 intervalos La integral converge a = 3.1415926546523933\n"
     ]
    }
   ],
   "source": [
    "m_r(g(10),F)\n",
    "t_r(g(10),F)\n",
    "s_r(g(10),F)\n",
    "\n",
    "m_r(g(50),F)\n",
    "t_r(g(50),F)\n",
    "s_r(g(50),F)\n",
    "\n",
    "m_r(g(100),F)\n",
    "t_r(g(100),F)\n",
    "s_r(g(100),F)\n"
   ]
  },
  {
   "cell_type": "code",
   "execution_count": null,
   "metadata": {},
   "outputs": [],
   "source": []
  },
  {
   "cell_type": "code",
   "execution_count": null,
   "metadata": {},
   "outputs": [],
   "source": []
  }
 ],
 "metadata": {
  "kernelspec": {
   "display_name": "Python 3",
   "language": "python",
   "name": "python3"
  },
  "language_info": {
   "codemirror_mode": {
    "name": "ipython",
    "version": 3
   },
   "file_extension": ".py",
   "mimetype": "text/x-python",
   "name": "python",
   "nbconvert_exporter": "python",
   "pygments_lexer": "ipython3",
   "version": "3.7.3"
  }
 },
 "nbformat": 4,
 "nbformat_minor": 2
}
