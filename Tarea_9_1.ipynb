{
 "cells": [
  {
   "cell_type": "code",
   "execution_count": 162,
   "metadata": {},
   "outputs": [],
   "source": [
    "import math as m\n",
    "import numpy as np\n",
    "import matplotlib.pyplot as plt\n",
    "from math import *"
   ]
  },
  {
   "cell_type": "code",
   "execution_count": 163,
   "metadata": {},
   "outputs": [],
   "source": [
    "a_1 =np.loadtxt(\"1.a.dat\",unpack=True)\n",
    "b_1 =np.loadtxt(\"1.b.dat\",unpack=True)\n",
    "r = b_1.size\n",
    "x = [0]*r\n"
   ]
  },
  {
   "cell_type": "code",
   "execution_count": 164,
   "metadata": {},
   "outputs": [
    {
     "data": {
      "text/plain": [
       "[-1.9321350442809804,\n",
       " 1.7073404089606623,\n",
       " 0.7712776580384718,\n",
       " -0.6234230504032408,\n",
       " 1.816407747716098,\n",
       " 2.745957959537788,\n",
       " -1.153413087119795,\n",
       " -0.7554896769511659,\n",
       " 2.2529108149141512,\n",
       " 1.577840775945467]"
      ]
     },
     "execution_count": 164,
     "metadata": {},
     "output_type": "execute_result"
    }
   ],
   "source": [
    "def e_g(a,b):                                          ## Aqui defino el codigo de la eliminacion gaussiana\n",
    "    for i in range(0,b.size):\n",
    "        for j in range(i+1,b.size):\n",
    "            b[j]= ((-a[j,i]/a[i,i]) * b[i] + b[j])\n",
    "            a[j,:]= ((-a[j,i]/a[i,i]) * a[i,:] + a[j,:])  \n",
    "    for k in range(2,r+1):\n",
    "        x[r-1] = b_1[r-1]/a_1[r-1][r-1]\n",
    "        x[r-k] = (b_1[r-k]-np.dot(a_1[r-k,:],x))/a_1[r-k][r-k]\n",
    "    return x\n",
    "    print(x)\n",
    "        \n",
    "e_g(a_1,b_1)"
   ]
  },
  {
   "cell_type": "code",
   "execution_count": 170,
   "metadata": {},
   "outputs": [
    {
     "name": "stdout",
     "output_type": "stream",
     "text": [
      "El sistema tiene solucion su determinante es 0.010742071625554721\n",
      "Su solucion es [-1.93213504  1.70734041  0.77127766 -0.62342305  1.81640775  2.74595796\n",
      " -1.15341309 -0.75548968  2.25291081  1.57784078]\n"
     ]
    },
    {
     "data": {
      "text/plain": [
       "array([-1.93213504,  1.70734041,  0.77127766, -0.62342305,  1.81640775,\n",
       "        2.74595796, -1.15341309, -0.75548968,  2.25291081,  1.57784078])"
      ]
     },
     "execution_count": 170,
     "metadata": {},
     "output_type": "execute_result"
    }
   ],
   "source": [
    "def det(a,b):                                                     ## Aqui llamo los modulos del determinante y del solucionador\n",
    "    if np.linalg.det(a) != 0:\n",
    "        x = np.linalg.solve(a,b)\n",
    "        print(\"El sistema tiene solucion su determinante es\",np.linalg.det(a))\n",
    "        print(\"Su solucion es\",x)\n",
    "    else:\n",
    "        print(\"el sistema no tiene solucion\")\n",
    "    return x\n",
    "det(a_1,b_1)\n"
   ]
  },
  {
   "cell_type": "code",
   "execution_count": null,
   "metadata": {},
   "outputs": [],
   "source": []
  },
  {
   "cell_type": "code",
   "execution_count": null,
   "metadata": {},
   "outputs": [],
   "source": []
  },
  {
   "cell_type": "code",
   "execution_count": null,
   "metadata": {},
   "outputs": [],
   "source": []
  },
  {
   "cell_type": "code",
   "execution_count": null,
   "metadata": {},
   "outputs": [],
   "source": []
  },
  {
   "cell_type": "code",
   "execution_count": null,
   "metadata": {},
   "outputs": [],
   "source": []
  },
  {
   "cell_type": "code",
   "execution_count": null,
   "metadata": {},
   "outputs": [],
   "source": []
  }
 ],
 "metadata": {
  "kernelspec": {
   "display_name": "Python 3",
   "language": "python",
   "name": "python3"
  },
  "language_info": {
   "codemirror_mode": {
    "name": "ipython",
    "version": 3
   },
   "file_extension": ".py",
   "mimetype": "text/x-python",
   "name": "python",
   "nbconvert_exporter": "python",
   "pygments_lexer": "ipython3",
   "version": "3.7.3"
  }
 },
 "nbformat": 4,
 "nbformat_minor": 2
}
